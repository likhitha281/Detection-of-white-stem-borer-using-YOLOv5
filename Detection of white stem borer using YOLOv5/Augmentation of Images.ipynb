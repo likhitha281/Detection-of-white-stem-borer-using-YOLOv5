{
 "cells": [
  {
   "cell_type": "code",
   "execution_count": 2,
   "id": "5b2a29d8",
   "metadata": {
    "collapsed": true
   },
   "outputs": [
    {
     "name": "stdout",
     "output_type": "stream",
     "text": [
      "Requirement already satisfied: albumentations in c:\\users\\likhitha\\anaconda3\\lib\\site-packages (1.3.0)\n",
      "Requirement already satisfied: PyYAML in c:\\users\\likhitha\\anaconda3\\lib\\site-packages (from albumentations) (5.4.1)\n",
      "Requirement already satisfied: scikit-image>=0.16.1 in c:\\users\\likhitha\\anaconda3\\lib\\site-packages (from albumentations) (0.18.1)\n",
      "Requirement already satisfied: scipy in c:\\users\\likhitha\\anaconda3\\lib\\site-packages (from albumentations) (1.6.2)\n",
      "Requirement already satisfied: numpy>=1.11.1 in c:\\users\\likhitha\\anaconda3\\lib\\site-packages (from albumentations) (1.20.1)\n",
      "Requirement already satisfied: opencv-python-headless>=4.1.1 in c:\\users\\likhitha\\anaconda3\\lib\\site-packages (from albumentations) (4.6.0.66)\n",
      "Requirement already satisfied: qudida>=0.0.4 in c:\\users\\likhitha\\anaconda3\\lib\\site-packages (from albumentations) (0.0.4)\n",
      "Requirement already satisfied: scikit-learn>=0.19.1 in c:\\users\\likhitha\\anaconda3\\lib\\site-packages (from qudida>=0.0.4->albumentations) (0.24.1)\n",
      "Requirement already satisfied: typing-extensions in c:\\users\\likhitha\\anaconda3\\lib\\site-packages (from qudida>=0.0.4->albumentations) (3.7.4.3)\n",
      "Requirement already satisfied: matplotlib!=3.0.0,>=2.0.0 in c:\\users\\likhitha\\anaconda3\\lib\\site-packages (from scikit-image>=0.16.1->albumentations) (3.3.4)\n",
      "Requirement already satisfied: networkx>=2.0 in c:\\users\\likhitha\\anaconda3\\lib\\site-packages (from scikit-image>=0.16.1->albumentations) (2.5)\n",
      "Requirement already satisfied: pillow!=7.1.0,!=7.1.1,>=4.3.0 in c:\\users\\likhitha\\anaconda3\\lib\\site-packages (from scikit-image>=0.16.1->albumentations) (8.2.0)\n",
      "Requirement already satisfied: imageio>=2.3.0 in c:\\users\\likhitha\\anaconda3\\lib\\site-packages (from scikit-image>=0.16.1->albumentations) (2.9.0)\n",
      "Requirement already satisfied: tifffile>=2019.7.26 in c:\\users\\likhitha\\anaconda3\\lib\\site-packages (from scikit-image>=0.16.1->albumentations) (2021.4.8)\n",
      "Requirement already satisfied: PyWavelets>=1.1.1 in c:\\users\\likhitha\\anaconda3\\lib\\site-packages (from scikit-image>=0.16.1->albumentations) (1.1.1)\n",
      "Requirement already satisfied: cycler>=0.10 in c:\\users\\likhitha\\anaconda3\\lib\\site-packages (from matplotlib!=3.0.0,>=2.0.0->scikit-image>=0.16.1->albumentations) (0.10.0)\n",
      "Requirement already satisfied: pyparsing!=2.0.4,!=2.1.2,!=2.1.6,>=2.0.3 in c:\\users\\likhitha\\anaconda3\\lib\\site-packages (from matplotlib!=3.0.0,>=2.0.0->scikit-image>=0.16.1->albumentations) (2.4.7)\n",
      "Requirement already satisfied: python-dateutil>=2.1 in c:\\users\\likhitha\\anaconda3\\lib\\site-packages (from matplotlib!=3.0.0,>=2.0.0->scikit-image>=0.16.1->albumentations) (2.8.1)\n",
      "Requirement already satisfied: kiwisolver>=1.0.1 in c:\\users\\likhitha\\anaconda3\\lib\\site-packages (from matplotlib!=3.0.0,>=2.0.0->scikit-image>=0.16.1->albumentations) (1.3.1)\n",
      "Requirement already satisfied: six in c:\\users\\likhitha\\anaconda3\\lib\\site-packages (from cycler>=0.10->matplotlib!=3.0.0,>=2.0.0->scikit-image>=0.16.1->albumentations) (1.15.0)\n",
      "Requirement already satisfied: decorator>=4.3.0 in c:\\users\\likhitha\\anaconda3\\lib\\site-packages (from networkx>=2.0->scikit-image>=0.16.1->albumentations) (5.0.6)\n",
      "Requirement already satisfied: joblib>=0.11 in c:\\users\\likhitha\\anaconda3\\lib\\site-packages (from scikit-learn>=0.19.1->qudida>=0.0.4->albumentations) (1.0.1)\n",
      "Requirement already satisfied: threadpoolctl>=2.0.0 in c:\\users\\likhitha\\anaconda3\\lib\\site-packages (from scikit-learn>=0.19.1->qudida>=0.0.4->albumentations) (2.1.0)\n",
      "Note: you may need to restart the kernel to use updated packages.\n"
     ]
    }
   ],
   "source": [
    "pip install -U albumentations"
   ]
  },
  {
   "cell_type": "code",
   "execution_count": 1,
   "id": "3e0322c4",
   "metadata": {},
   "outputs": [],
   "source": [
    "import numpy as np\n",
    "import imageio\n",
    "from os import listdir\n",
    "import albumentations as A\n",
    "import os"
   ]
  },
  {
   "cell_type": "code",
   "execution_count": 2,
   "id": "aacadf10",
   "metadata": {},
   "outputs": [],
   "source": [
    "input_path = r\"C:\\Users\\likhitha\\Documents\\capstone\\level1_filtration\"\n",
    "output_path = r\"C:\\Users\\likhitha\\Documents\\capstone\\level1_filtration\""
   ]
  },
  {
   "cell_type": "code",
   "execution_count": 3,
   "id": "2646587e",
   "metadata": {
    "scrolled": true
   },
   "outputs": [],
   "source": [
    "input_images = listdir(input_path)\n",
    "input_images.sort()"
   ]
  },
  {
   "cell_type": "code",
   "execution_count": 8,
   "id": "06718cf5",
   "metadata": {},
   "outputs": [
    {
     "name": "stdout",
     "output_type": "stream",
     "text": [
      "HorizontalFlip\n"
     ]
    },
    {
     "name": "stderr",
     "output_type": "stream",
     "text": [
      "C:\\Users\\likhitha\\AppData\\Local\\Temp\\ipykernel_12160\\3286961160.py:2: DeprecationWarning: Starting with ImageIO v3 the behavior of this function will switch to that of iio.v3.imread. To keep the current behavior (and make this warning dissapear) use `import imageio.v2 as imageio` or call `imageio.v2.imread` directly.\n",
      "  image = imageio.imread(url)\n"
     ]
    },
    {
     "name": "stdout",
     "output_type": "stream",
     "text": [
      "VerticalFlip\n",
      "HueSaturation\n",
      "RandomRain\n",
      "RandomBrightness\n",
      "RandomContrast\n",
      "RandomShadow\n",
      "ISONoise\n",
      "RandomFog\n"
     ]
    }
   ],
   "source": [
    "def read_image(url):\n",
    "    image = imageio.imread(url)\n",
    "    return image\n",
    "\n",
    "def augment_and_return(aug,image):\n",
    "    aimg = aug(image=image)['image']\n",
    "    return aimg\n",
    "\n",
    "def save_augmented_image(aimg,image,directory):\n",
    "    uri = directory+\"/\"+image\n",
    "    imageio.imwrite(uri,aimg)\n",
    "\n",
    "listagF = {\"HorizontalFlip\":\"A.HorizontalFlip(p=1)\",\"VerticalFlip\":\"A.VerticalFlip(p=1)\",\"HueSaturation\":\"A.HueSaturationValue(p=0.3)\",\n",
    "           \"RandomRain\":\"A.RandomRain(p=0.3)\",\"RandomBrightness\":\"A.RandomBrightness(p=0.5)\",\"RandomContrast\":\"A.RandomContrast(p=0.5)\"\n",
    "           ,\"RandomShadow\":\"A.RandomShadow(p=0.5)\",\"ISONoise\":\"A.ISONoise(p=1)\",\"RandomFog\":\"A.RandomFog(p=0.5)\"}\n",
    "keys = list(listagF.keys())\n",
    "values = list(listagF.values())\n",
    "\n",
    "for k in range(len(keys)):\n",
    "    print(keys[k])\n",
    "    aug = eval(values[k])\n",
    "    folder = keys[k]\n",
    "    for i in input_images:\n",
    "        path2img = input_path + '/' + i\n",
    "        image = read_image(path2img)\n",
    "        if len(image.shape) > 2 and image.shape[2] == 4:\n",
    "            #slice off the alpha channel\n",
    "            image = image[:, :, :3]\n",
    "        aimg = augment_and_return(aug,image)\n",
    "        dest = output_path + folder + \"/\"\n",
    "        if not os.path.exists(dest):\n",
    "            os.mkdir(dest)\n",
    "        save_augmented_image(aimg,i,dest) \n",
    "        "
   ]
  }
 ],
 "metadata": {
  "kernelspec": {
   "display_name": "Python 3 (ipykernel)",
   "language": "python",
   "name": "python3"
  },
  "language_info": {
   "codemirror_mode": {
    "name": "ipython",
    "version": 3
   },
   "file_extension": ".py",
   "mimetype": "text/x-python",
   "name": "python",
   "nbconvert_exporter": "python",
   "pygments_lexer": "ipython3",
   "version": "3.8.15"
  }
 },
 "nbformat": 4,
 "nbformat_minor": 5
}
